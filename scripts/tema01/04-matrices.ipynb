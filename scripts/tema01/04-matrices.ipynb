{
 "cells": [
  {
   "cell_type": "markdown",
   "metadata": {},
   "source": [
    "# Cómo trabajar con matrices"
   ]
  },
  {
   "cell_type": "code",
   "execution_count": 1,
   "metadata": {},
   "outputs": [
    {
     "name": "stderr",
     "output_type": "stream",
     "text": [
      "/Users/raultoscanomiranda/opt/anaconda3/envs/mi_virtual_env_36_tensor_110/lib/python3.6/site-packages/tensorflow/python/framework/dtypes.py:516: FutureWarning: Passing (type, 1) or '1type' as a synonym of type is deprecated; in a future version of numpy, it will be understood as (type, (1,)) / '(1,)type'.\n",
      "  _np_qint8 = np.dtype([(\"qint8\", np.int8, 1)])\n",
      "/Users/raultoscanomiranda/opt/anaconda3/envs/mi_virtual_env_36_tensor_110/lib/python3.6/site-packages/tensorflow/python/framework/dtypes.py:517: FutureWarning: Passing (type, 1) or '1type' as a synonym of type is deprecated; in a future version of numpy, it will be understood as (type, (1,)) / '(1,)type'.\n",
      "  _np_quint8 = np.dtype([(\"quint8\", np.uint8, 1)])\n",
      "/Users/raultoscanomiranda/opt/anaconda3/envs/mi_virtual_env_36_tensor_110/lib/python3.6/site-packages/tensorflow/python/framework/dtypes.py:518: FutureWarning: Passing (type, 1) or '1type' as a synonym of type is deprecated; in a future version of numpy, it will be understood as (type, (1,)) / '(1,)type'.\n",
      "  _np_qint16 = np.dtype([(\"qint16\", np.int16, 1)])\n",
      "/Users/raultoscanomiranda/opt/anaconda3/envs/mi_virtual_env_36_tensor_110/lib/python3.6/site-packages/tensorflow/python/framework/dtypes.py:519: FutureWarning: Passing (type, 1) or '1type' as a synonym of type is deprecated; in a future version of numpy, it will be understood as (type, (1,)) / '(1,)type'.\n",
      "  _np_quint16 = np.dtype([(\"quint16\", np.uint16, 1)])\n",
      "/Users/raultoscanomiranda/opt/anaconda3/envs/mi_virtual_env_36_tensor_110/lib/python3.6/site-packages/tensorflow/python/framework/dtypes.py:520: FutureWarning: Passing (type, 1) or '1type' as a synonym of type is deprecated; in a future version of numpy, it will be understood as (type, (1,)) / '(1,)type'.\n",
      "  _np_qint32 = np.dtype([(\"qint32\", np.int32, 1)])\n",
      "/Users/raultoscanomiranda/opt/anaconda3/envs/mi_virtual_env_36_tensor_110/lib/python3.6/site-packages/tensorflow/python/framework/dtypes.py:525: FutureWarning: Passing (type, 1) or '1type' as a synonym of type is deprecated; in a future version of numpy, it will be understood as (type, (1,)) / '(1,)type'.\n",
      "  np_resource = np.dtype([(\"resource\", np.ubyte, 1)])\n",
      "/Users/raultoscanomiranda/opt/anaconda3/envs/mi_virtual_env_36_tensor_110/lib/python3.6/site-packages/tensorboard/compat/tensorflow_stub/dtypes.py:541: FutureWarning: Passing (type, 1) or '1type' as a synonym of type is deprecated; in a future version of numpy, it will be understood as (type, (1,)) / '(1,)type'.\n",
      "  _np_qint8 = np.dtype([(\"qint8\", np.int8, 1)])\n",
      "/Users/raultoscanomiranda/opt/anaconda3/envs/mi_virtual_env_36_tensor_110/lib/python3.6/site-packages/tensorboard/compat/tensorflow_stub/dtypes.py:542: FutureWarning: Passing (type, 1) or '1type' as a synonym of type is deprecated; in a future version of numpy, it will be understood as (type, (1,)) / '(1,)type'.\n",
      "  _np_quint8 = np.dtype([(\"quint8\", np.uint8, 1)])\n",
      "/Users/raultoscanomiranda/opt/anaconda3/envs/mi_virtual_env_36_tensor_110/lib/python3.6/site-packages/tensorboard/compat/tensorflow_stub/dtypes.py:543: FutureWarning: Passing (type, 1) or '1type' as a synonym of type is deprecated; in a future version of numpy, it will be understood as (type, (1,)) / '(1,)type'.\n",
      "  _np_qint16 = np.dtype([(\"qint16\", np.int16, 1)])\n",
      "/Users/raultoscanomiranda/opt/anaconda3/envs/mi_virtual_env_36_tensor_110/lib/python3.6/site-packages/tensorboard/compat/tensorflow_stub/dtypes.py:544: FutureWarning: Passing (type, 1) or '1type' as a synonym of type is deprecated; in a future version of numpy, it will be understood as (type, (1,)) / '(1,)type'.\n",
      "  _np_quint16 = np.dtype([(\"quint16\", np.uint16, 1)])\n",
      "/Users/raultoscanomiranda/opt/anaconda3/envs/mi_virtual_env_36_tensor_110/lib/python3.6/site-packages/tensorboard/compat/tensorflow_stub/dtypes.py:545: FutureWarning: Passing (type, 1) or '1type' as a synonym of type is deprecated; in a future version of numpy, it will be understood as (type, (1,)) / '(1,)type'.\n",
      "  _np_qint32 = np.dtype([(\"qint32\", np.int32, 1)])\n",
      "/Users/raultoscanomiranda/opt/anaconda3/envs/mi_virtual_env_36_tensor_110/lib/python3.6/site-packages/tensorboard/compat/tensorflow_stub/dtypes.py:550: FutureWarning: Passing (type, 1) or '1type' as a synonym of type is deprecated; in a future version of numpy, it will be understood as (type, (1,)) / '(1,)type'.\n",
      "  np_resource = np.dtype([(\"resource\", np.ubyte, 1)])\n"
     ]
    }
   ],
   "source": [
    "import tensorflow as tf\n",
    "session = tf.Session()"
   ]
  },
  {
   "cell_type": "markdown",
   "metadata": {},
   "source": [
    "### 1. Cómo crear matrices"
   ]
  },
  {
   "cell_type": "code",
   "execution_count": 2,
   "metadata": {},
   "outputs": [
    {
     "name": "stdout",
     "output_type": "stream",
     "text": [
      "[[1. 0. 0. 0.]\n",
      " [0. 1. 0. 0.]\n",
      " [0. 0. 1. 0.]\n",
      " [0. 0. 0. 1.]]\n"
     ]
    }
   ],
   "source": [
    "identity = tf.diag([1.,1.,1.,1.])\n",
    "print(session.run(identity))"
   ]
  },
  {
   "cell_type": "code",
   "execution_count": 3,
   "metadata": {},
   "outputs": [
    {
     "name": "stdout",
     "output_type": "stream",
     "text": [
      "[[ 0.4179375  -0.6674685   0.06698032 -0.5650093 ]\n",
      " [ 0.64243203 -1.1251109  -0.8959013   0.48531735]\n",
      " [ 0.5159693  -0.3489067   1.2623191   0.08223511]]\n"
     ]
    }
   ],
   "source": [
    "A = tf.truncated_normal([3,4])\n",
    "print(session.run(A))"
   ]
  },
  {
   "cell_type": "code",
   "execution_count": 4,
   "metadata": {},
   "outputs": [
    {
     "name": "stdout",
     "output_type": "stream",
     "text": [
      "[[1988. 1988. 1988. 1988.]\n",
      " [1988. 1988. 1988. 1988.]\n",
      " [1988. 1988. 1988. 1988.]]\n"
     ]
    }
   ],
   "source": [
    "B = tf.fill([3,4], 1988.)\n",
    "print(session.run(B))"
   ]
  },
  {
   "cell_type": "code",
   "execution_count": 5,
   "metadata": {},
   "outputs": [
    {
     "name": "stdout",
     "output_type": "stream",
     "text": [
      "[[0.2326783  0.30509377 0.9850731 ]\n",
      " [0.62594223 0.07745874 0.29002976]\n",
      " [0.07694817 0.89747894 0.87957895]\n",
      " [0.5323919  0.9581988  0.25987208]]\n"
     ]
    }
   ],
   "source": [
    "C = tf.random_uniform([4,3])\n",
    "print(session.run(C))"
   ]
  },
  {
   "cell_type": "code",
   "execution_count": 6,
   "metadata": {},
   "outputs": [
    {
     "name": "stdout",
     "output_type": "stream",
     "text": [
      "[[1. 2. 3.]\n",
      " [4. 5. 6.]\n",
      " [7. 8. 9.]]\n"
     ]
    }
   ],
   "source": [
    "import numpy as np\n",
    "data = np.array([[1.,2.,3.],[4.,5.,6.],[7.,8.,9.]])\n",
    "D = tf.convert_to_tensor(data)\n",
    "print(session.run(D))"
   ]
  },
  {
   "cell_type": "markdown",
   "metadata": {},
   "source": [
    "## 2. Operar con matrices"
   ]
  },
  {
   "cell_type": "code",
   "execution_count": 7,
   "metadata": {},
   "outputs": [
    {
     "name": "stdout",
     "output_type": "stream",
     "text": [
      "[[1986.4484 1987.044  1988.215  1989.8813]\n",
      " [1987.5258 1987.7804 1987.5609 1986.0992]\n",
      " [1988.2756 1986.5261 1987.4127 1988.4995]]\n"
     ]
    }
   ],
   "source": [
    "print(session.run(A+B))"
   ]
  },
  {
   "cell_type": "code",
   "execution_count": 8,
   "metadata": {},
   "outputs": [
    {
     "name": "stdout",
     "output_type": "stream",
     "text": [
      "[[0. 0. 0. 0.]\n",
      " [0. 0. 0. 0.]\n",
      " [0. 0. 0. 0.]]\n"
     ]
    }
   ],
   "source": [
    "print(session.run(B-B))"
   ]
  },
  {
   "cell_type": "code",
   "execution_count": 9,
   "metadata": {},
   "outputs": [
    {
     "name": "stdout",
     "output_type": "stream",
     "text": [
      "[[0.45386314 0.7589061  0.9484688 ]\n",
      " [0.3541789  0.12342336 0.61435676]\n",
      " [0.21121094 0.420239   0.5154568 ]]\n"
     ]
    }
   ],
   "source": [
    "print(session.run(tf.matmul(A,C)))"
   ]
  },
  {
   "cell_type": "code",
   "execution_count": 10,
   "metadata": {},
   "outputs": [
    {
     "name": "stdout",
     "output_type": "stream",
     "text": [
      "[[-0.81645995  0.3366893  -0.06508224 -1.1995679 ]\n",
      " [ 0.02458346 -0.7788593  -0.20735435  0.6998337 ]\n",
      " [-0.5868325  -0.7402592   0.259246    0.8211842 ]]\n"
     ]
    }
   ],
   "source": [
    "print(session.run(tf.matmul(A, identity)))"
   ]
  },
  {
   "cell_type": "markdown",
   "metadata": {},
   "source": [
    "## 3. Tranpuesta, determinante, inversa"
   ]
  },
  {
   "cell_type": "code",
   "execution_count": 11,
   "metadata": {},
   "outputs": [
    {
     "name": "stdout",
     "output_type": "stream",
     "text": [
      "[[1. 4. 7.]\n",
      " [2. 5. 8.]\n",
      " [3. 6. 9.]]\n"
     ]
    }
   ],
   "source": [
    "print(session.run(tf.transpose(D)))"
   ]
  },
  {
   "cell_type": "code",
   "execution_count": 12,
   "metadata": {},
   "outputs": [
    {
     "name": "stdout",
     "output_type": "stream",
     "text": [
      "[[ 0.44665474 -0.28575537 -0.11534715]\n",
      " [-0.20426933 -0.10617515  1.1948892 ]\n",
      " [-0.364871    1.874711   -0.2590806 ]\n",
      " [-0.56299394  0.39764896  0.89505166]]\n"
     ]
    }
   ],
   "source": [
    "print(session.run(tf.transpose(A)))"
   ]
  },
  {
   "cell_type": "code",
   "execution_count": 13,
   "metadata": {},
   "outputs": [
    {
     "name": "stdout",
     "output_type": "stream",
     "text": [
      "6.66133814775094e-16\n"
     ]
    }
   ],
   "source": [
    "print(session.run(tf.matrix_determinant(D)))"
   ]
  },
  {
   "cell_type": "code",
   "execution_count": 14,
   "metadata": {},
   "outputs": [
    {
     "name": "stdout",
     "output_type": "stream",
     "text": [
      "-40.0\n"
     ]
    }
   ],
   "source": [
    "E = tf.convert_to_tensor(np.array([[1.,2.,3.], [-3., -6., -1], [0., 5, -3]]))\n",
    "print(session.run(tf.matrix_determinant(E)))"
   ]
  },
  {
   "cell_type": "code",
   "execution_count": 15,
   "metadata": {},
   "outputs": [
    {
     "name": "stdout",
     "output_type": "stream",
     "text": [
      "[[-0.575 -0.525 -0.4  ]\n",
      " [ 0.225  0.075  0.2  ]\n",
      " [ 0.375  0.125  0.   ]]\n"
     ]
    }
   ],
   "source": [
    "print(session.run(tf.matrix_inverse(E)))"
   ]
  },
  {
   "cell_type": "markdown",
   "metadata": {},
   "source": [
    "## 4. Descomposición"
   ]
  },
  {
   "cell_type": "code",
   "execution_count": 16,
   "metadata": {},
   "outputs": [
    {
     "name": "stdout",
     "output_type": "stream",
     "text": [
      "[[1. 0. 0. 0.]\n",
      " [0. 1. 0. 0.]\n",
      " [0. 0. 1. 0.]\n",
      " [0. 0. 0. 1.]]\n"
     ]
    }
   ],
   "source": [
    "print(session.run(tf.cholesky(identity)))"
   ]
  },
  {
   "cell_type": "markdown",
   "metadata": {},
   "source": [
    "## 5. Valores y vectores propios"
   ]
  },
  {
   "cell_type": "code",
   "execution_count": 17,
   "metadata": {},
   "outputs": [
    {
     "name": "stdout",
     "output_type": "stream",
     "text": [
      "[-10.24888536  -0.66882335   2.91770871]\n"
     ]
    }
   ],
   "source": [
    "print(session.run(tf.self_adjoint_eigvals(E)))"
   ]
  },
  {
   "cell_type": "code",
   "execution_count": 18,
   "metadata": {},
   "outputs": [
    {
     "name": "stdout",
     "output_type": "stream",
     "text": [
      "(array([-10.24888536,  -0.66882335,   2.91770871]), array([[ 0.21442787,  0.60489799, -0.76688924],\n",
      "       [ 0.80402486,  0.3364893 ,  0.49022339],\n",
      "       [-0.55458517,  0.72171557,  0.41420034]]))\n"
     ]
    }
   ],
   "source": [
    "print(session.run(tf.self_adjoint_eig(E)))"
   ]
  },
  {
   "cell_type": "code",
   "execution_count": null,
   "metadata": {},
   "outputs": [],
   "source": []
  }
 ],
 "metadata": {
  "kernelspec": {
   "display_name": "Python 3.6.13 ('mi_virtual_env_36_tensor_110')",
   "language": "python",
   "name": "python3"
  },
  "language_info": {
   "codemirror_mode": {
    "name": "ipython",
    "version": 3
   },
   "file_extension": ".py",
   "mimetype": "text/x-python",
   "name": "python",
   "nbconvert_exporter": "python",
   "pygments_lexer": "ipython3",
   "version": "3.6.13"
  },
  "vscode": {
   "interpreter": {
    "hash": "e889a8180c9ae4770aeb42a6a6befe34a1564b3c8a43eaaf3824f6c91a24cd60"
   }
  }
 },
 "nbformat": 4,
 "nbformat_minor": 2
}
